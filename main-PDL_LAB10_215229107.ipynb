{
 "cells": [
  {
   "cell_type": "markdown",
   "id": "8380e7a8",
   "metadata": {},
   "source": [
    "## `Name : Berchmans S`\n",
    "## `RollNo : 215229107`"
   ]
  },
  {
   "cell_type": "markdown",
   "id": "49854695",
   "metadata": {},
   "source": [
    "### Lab10 : Deployment of DNN as a web service"
   ]
  },
  {
   "cell_type": "code",
   "execution_count": 2,
   "id": "9adbcbba",
   "metadata": {},
   "outputs": [],
   "source": [
    "from flask import request\n",
    "\n",
    "from flask import jsonify\n",
    "\n",
    "from flask import Flask, render_template\n",
    "\n",
    "app = Flask(__name__)\n",
    "@app.route('/')\n",
    "def my_form():\n",
    "    return render_template('BK_SentimentAnalysis.html')\n",
    "\n",
    "@app.route('/', methods=['POST'])\n",
    "def my_form_post():    \n",
    "    text = request.form['text']    \n",
    "    nltk.download('vader_lexicon')  \n",
    "    \n",
    "    from nltk.sentiment.vader import SentimentIntensityAnalyzer\n",
    "\n",
    "    sid = SentimentIntensityAnalyzer()    \n",
    "    score = ((sid.polarity_scores(str(text))))['compound']    \n",
    "    if(score > 0):        \n",
    "        label = 'This sentence is positive'    \n",
    "    elif(score == 0):        \n",
    "        label = 'This sentence is neutral'    \n",
    "    else:        \n",
    "        label = 'This sentence is negative'    \n",
    "    \n",
    "    return(render_template('BK_SentimentAnalysis.html', variable=label))\n",
    "\n",
    "    if __name__ == \"__main__\":    \n",
    "        app.run(port='8088', threaded=False, debug=True)"
   ]
  },
  {
   "cell_type": "code",
   "execution_count": null,
   "id": "6ab99b48",
   "metadata": {},
   "outputs": [],
   "source": []
  }
 ],
 "metadata": {
  "kernelspec": {
   "display_name": "Python 3 (ipykernel)",
   "language": "python",
   "name": "python3"
  },
  "language_info": {
   "codemirror_mode": {
    "name": "ipython",
    "version": 3
   },
   "file_extension": ".py",
   "mimetype": "text/x-python",
   "name": "python",
   "nbconvert_exporter": "python",
   "pygments_lexer": "ipython3",
   "version": "3.9.12"
  }
 },
 "nbformat": 4,
 "nbformat_minor": 5
}
